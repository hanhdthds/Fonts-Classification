{
  "nbformat": 4,
  "nbformat_minor": 0,
  "metadata": {
    "kernelspec": {
      "display_name": "Python 3",
      "language": "python",
      "name": "python3"
    },
    "language_info": {
      "codemirror_mode": {
        "name": "ipython",
        "version": 3
      },
      "file_extension": ".py",
      "mimetype": "text/x-python",
      "name": "python",
      "nbconvert_exporter": "python",
      "pygments_lexer": "ipython3",
      "version": "3.7.1"
    },
    "colab": {
      "name": "base_line.ipynb",
      "provenance": [],
      "collapsed_sections": [],
      "toc_visible": true
    }
  },
  "cells": [
    {
      "cell_type": "markdown",
      "metadata": {
        "id": "sGG07uupzJBN"
      },
      "source": [
        "# Chia train val test:"
      ]
    },
    {
      "cell_type": "code",
      "metadata": {
        "id": "ONLBXPF8zJBU"
      },
      "source": [
        "import splitfolders\n",
        "input_folder = \"H:/Font_style_classification/font_style_images/\"\n",
        "output = \"H:/Font_style_classification/train_val_test/\"\n",
        "\n",
        "splitfolders.ratio(input_folder, output=output, seed=42, ratio=(.8, .1, .1)) "
      ],
      "execution_count": null,
      "outputs": []
    },
    {
      "cell_type": "code",
      "metadata": {
        "id": "-WW-YpGP15Y1"
      },
      "source": [
        "from google.colab import drive\n",
        "drive.mount('/content/drive')"
      ],
      "execution_count": null,
      "outputs": []
    },
    {
      "cell_type": "markdown",
      "metadata": {
        "id": "A2XRzOU7zJBV"
      },
      "source": [
        "# ImageGenerator (prepare dataset):"
      ]
    },
    {
      "cell_type": "code",
      "metadata": {
        "id": "RIC7quduzJBV",
        "outputId": "17aeecfc-1e78-4cd3-ef96-d2fa227a47a7"
      },
      "source": [
        "from keras.preprocessing.image import ImageDataGenerator \n",
        "\n",
        "train_data_dir = 'H:/Font_style_classification/train_val_test/train/'\n",
        "val_data_dir = 'H:/Font_style_classification/train_val_test/val/'\n",
        "test_data_dir = 'H:/Font_style_classification/train_val_test/test/'\n",
        "\n",
        "img_width, img_height = 60, 60\n",
        "batch_size = 16\n",
        "\n",
        "train_datagen = ImageDataGenerator( \n",
        "                rescale = 1. / 255, \n",
        "                 shear_range = 0.2, \n",
        "                  zoom_range = 0.2, \n",
        "            horizontal_flip = True) \n",
        "  \n",
        "val_datagen = ImageDataGenerator(rescale = 1. / 255)     \n",
        "test_datagen = ImageDataGenerator(rescale = 1. / 255) \n",
        "  \n",
        "train_generator = train_datagen.flow_from_directory(train_data_dir, \n",
        "                              target_size =(img_width, img_height), \n",
        "                     batch_size = batch_size, class_mode ='categorical') \n",
        "  \n",
        "val_generator = test_datagen.flow_from_directory( \n",
        "                                    val_data_dir, \n",
        "                   target_size =(img_width, img_height), \n",
        "          batch_size = batch_size, class_mode ='categorical') \n",
        "test_generator = test_datagen.flow_from_directory( \n",
        "                                    test_data_dir, \n",
        "                   target_size =(img_width, img_height), \n",
        "          batch_size = batch_size, class_mode ='categorical') \n",
        "  "
      ],
      "execution_count": null,
      "outputs": [
        {
          "output_type": "stream",
          "text": [
            "Found 55223 images belonging to 24 classes.\n",
            "Found 6896 images belonging to 24 classes.\n",
            "Found 6924 images belonging to 24 classes.\n"
          ],
          "name": "stdout"
        }
      ]
    },
    {
      "cell_type": "markdown",
      "metadata": {
        "id": "D6tlRENzzJBW"
      },
      "source": [
        "# Classification Models:"
      ]
    },
    {
      "cell_type": "code",
      "metadata": {
        "id": "L9MlOnQzzJBW"
      },
      "source": [
        "# importing libraries \n",
        "from keras.preprocessing.image import ImageDataGenerator \n",
        "from keras.models import Sequential \n",
        "from keras.layers import Conv2D, MaxPooling2D \n",
        "from keras.layers import Activation, Dropout, Flatten, Dense \n",
        "from keras import backend as K "
      ],
      "execution_count": null,
      "outputs": []
    },
    {
      "cell_type": "code",
      "metadata": {
        "id": "e4aox8TVzJBW",
        "outputId": "af61717f-f2c9-401e-cfe8-77055a1b9f94"
      },
      "source": [
        "if K.image_data_format() == 'channels_first': \n",
        "    input_shape = (3, img_width, img_height) \n",
        "else: \n",
        "    input_shape = (img_width, img_height, 3) \n",
        "  \n",
        "model = Sequential() \n",
        "model.add(Conv2D(32, (2, 2), input_shape = input_shape)) \n",
        "model.add(Activation('relu')) \n",
        "model.add(MaxPooling2D(pool_size =(2, 2))) \n",
        "  \n",
        "model.add(Conv2D(32, (2, 2))) \n",
        "model.add(Activation('relu')) \n",
        "model.add(MaxPooling2D(pool_size =(2, 2))) \n",
        "  \n",
        "model.add(Conv2D(64, (2, 2))) \n",
        "model.add(Activation('relu')) \n",
        "model.add(MaxPooling2D(pool_size =(2, 2))) \n",
        "  \n",
        "model.add(Flatten()) \n",
        "model.add(Dense(64)) \n",
        "model.add(Activation('relu')) \n",
        "model.add(Dropout(0.5)) \n",
        "model.add(Dense(24)) \n",
        "model.add(Activation('softmax')) \n",
        "  \n",
        "model.compile(loss ='categorical_crossentropy', \n",
        "                     optimizer ='adam', \n",
        "                   metrics =['accuracy']) \n",
        "model.summary()"
      ],
      "execution_count": null,
      "outputs": [
        {
          "output_type": "stream",
          "text": [
            "Model: \"sequential_1\"\n",
            "_________________________________________________________________\n",
            "Layer (type)                 Output Shape              Param #   \n",
            "=================================================================\n",
            "conv2d_3 (Conv2D)            (None, 59, 59, 32)        416       \n",
            "_________________________________________________________________\n",
            "activation_5 (Activation)    (None, 59, 59, 32)        0         \n",
            "_________________________________________________________________\n",
            "max_pooling2d_3 (MaxPooling2 (None, 29, 29, 32)        0         \n",
            "_________________________________________________________________\n",
            "conv2d_4 (Conv2D)            (None, 28, 28, 32)        4128      \n",
            "_________________________________________________________________\n",
            "activation_6 (Activation)    (None, 28, 28, 32)        0         \n",
            "_________________________________________________________________\n",
            "max_pooling2d_4 (MaxPooling2 (None, 14, 14, 32)        0         \n",
            "_________________________________________________________________\n",
            "conv2d_5 (Conv2D)            (None, 13, 13, 64)        8256      \n",
            "_________________________________________________________________\n",
            "activation_7 (Activation)    (None, 13, 13, 64)        0         \n",
            "_________________________________________________________________\n",
            "max_pooling2d_5 (MaxPooling2 (None, 6, 6, 64)          0         \n",
            "_________________________________________________________________\n",
            "flatten_1 (Flatten)          (None, 2304)              0         \n",
            "_________________________________________________________________\n",
            "dense_2 (Dense)              (None, 64)                147520    \n",
            "_________________________________________________________________\n",
            "activation_8 (Activation)    (None, 64)                0         \n",
            "_________________________________________________________________\n",
            "dropout_1 (Dropout)          (None, 64)                0         \n",
            "_________________________________________________________________\n",
            "dense_3 (Dense)              (None, 24)                1560      \n",
            "_________________________________________________________________\n",
            "activation_9 (Activation)    (None, 24)                0         \n",
            "=================================================================\n",
            "Total params: 161,880\n",
            "Trainable params: 161,880\n",
            "Non-trainable params: 0\n",
            "_________________________________________________________________\n"
          ],
          "name": "stdout"
        }
      ]
    },
    {
      "cell_type": "code",
      "metadata": {
        "id": "yT62w7atzJBX",
        "outputId": "f77598c0-9927-4e99-9ce1-8f7c190e8c29"
      },
      "source": [
        "model.fit_generator(train_generator_1, \n",
        "    #steps_per_epoch = nb_train_samples // batch_size,\n",
        "    epochs = 10, validation_data = val_generator_1)\n",
        "    #validation_steps = nb_validation_samples // batch_size) "
      ],
      "execution_count": null,
      "outputs": [
        {
          "output_type": "stream",
          "text": [
            "Epoch 1/10\n",
            "3452/3452 [==============================] - 1755s 508ms/step - loss: 2.8370 - accuracy: 0.1504 - val_loss: 2.5590 - val_accuracy: 0.2151\n",
            "Epoch 2/10\n",
            "3452/3452 [==============================] - 614s 178ms/step - loss: 2.6162 - accuracy: 0.2028 - val_loss: 2.3429 - val_accuracy: 0.2780\n",
            "Epoch 3/10\n",
            "3452/3452 [==============================] - 626s 181ms/step - loss: 2.5150 - accuracy: 0.2254 - val_loss: 2.2632 - val_accuracy: 0.2884\n",
            "Epoch 4/10\n",
            "3452/3452 [==============================] - 502s 145ms/step - loss: 2.4602 - accuracy: 0.2439 - val_loss: 2.2743 - val_accuracy: 0.3064\n",
            "Epoch 5/10\n",
            "3452/3452 [==============================] - 568s 165ms/step - loss: 2.4108 - accuracy: 0.2556 - val_loss: 2.1876 - val_accuracy: 0.3231\n",
            "Epoch 6/10\n",
            "3452/3452 [==============================] - 2195s 636ms/step - loss: 2.3702 - accuracy: 0.2670 - val_loss: 2.1371 - val_accuracy: 0.3363\n",
            "Epoch 7/10\n",
            "3452/3452 [==============================] - 248s 72ms/step - loss: 2.3350 - accuracy: 0.2779 - val_loss: 2.1461 - val_accuracy: 0.3335\n",
            "Epoch 8/10\n",
            "2910/3452 [========================>.....] - ETA: 35s - loss: 2.3108 - accuracy: 0.2830"
          ],
          "name": "stdout"
        }
      ]
    },
    {
      "cell_type": "code",
      "metadata": {
        "id": "-Vjl-Ebku3vL"
      },
      "source": [
        "acc = history.history['accuracy']\n",
        "val_acc = history.history['val_accuracy']\n",
        "loss = history.history['loss']\n",
        "val_loss = history.history['val_loss']\n",
        "\n",
        "epochs = range(len(acc))\n",
        "\n",
        "plt.plot(epochs, acc, 'r', label='Training accuracy')\n",
        "plt.plot(epochs, val_acc, 'b', label='Validation accuracy')\n",
        "plt.title('Training and validation accuracy')\n",
        "\n",
        "plt.figure()\n",
        "\n",
        "plt.plot(epochs, loss, 'r', label='Training Loss')\n",
        "plt.plot(epochs, val_loss, 'b', label='Validation Loss')\n",
        "plt.title('Training and validation loss')\n",
        "\n",
        "plt.legend()\n",
        "\n",
        "plt.show()"
      ],
      "execution_count": null,
      "outputs": []
    }
  ]
}